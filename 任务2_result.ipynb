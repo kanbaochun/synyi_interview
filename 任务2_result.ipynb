{
 "cells": [
  {
   "cell_type": "markdown",
   "metadata": {},
   "source": [
    "如果需要在产品中使用。你会推荐使用之前哪个算法得到的模型？解释为什么。"
   ]
  },
  {
   "cell_type": "markdown",
   "metadata": {},
   "source": [
    "答：可能会使用3个模型的融合，每个模型有一个投票权，少数服从多数。实际应用哪个模型会视实际场景而定，Xgboost模型通过调参可以获得很高的准确率，但是相应的模型调参和模型训练会花更多的时间，后期上线会对资源有很大的消耗，LR模型参数少资源消耗小，可解释性好，特征工程做的好准确率尚可，适合快速开发和上线应用。"
   ]
  }
 ],
 "metadata": {
  "kernelspec": {
   "display_name": "Python 3",
   "language": "python",
   "name": "python3"
  },
  "language_info": {
   "codemirror_mode": {
    "name": "ipython",
    "version": 3
   },
   "file_extension": ".py",
   "mimetype": "text/x-python",
   "name": "python",
   "nbconvert_exporter": "python",
   "pygments_lexer": "ipython3",
   "version": "3.6.6"
  }
 },
 "nbformat": 4,
 "nbformat_minor": 2
}
