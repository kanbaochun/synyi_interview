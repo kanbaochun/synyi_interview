{
 "cells": [
  {
   "cell_type": "code",
   "execution_count": 1,
   "metadata": {},
   "outputs": [],
   "source": [
    "import pandas as pd"
   ]
  },
  {
   "cell_type": "code",
   "execution_count": 2,
   "metadata": {},
   "outputs": [],
   "source": [
    "history_data = pd.read_csv('history_data.csv', parse_dates=['time'])"
   ]
  },
  {
   "cell_type": "code",
   "execution_count": 3,
   "metadata": {},
   "outputs": [],
   "source": [
    "sample_df = pd.read_csv('sample.csv')"
   ]
  },
  {
   "cell_type": "code",
   "execution_count": 4,
   "metadata": {},
   "outputs": [],
   "source": [
    "#获取过去10, 60天内，该id对应的A,B的最大值,非空记录数量\n",
    "def Get_A_B_Value(history_data,sample_df):\n",
    "    lst = []\n",
    "    for i in range(len(sample_df.index)):\n",
    "        lst_tmp = []\n",
    "        lst_tmp.append(sample_df['id'][i])\n",
    "        lst_tmp.append(sample_df['obs_time'][i])\n",
    "        \n",
    "        #计算时间间隔\n",
    "        history_data_1 = pd.DataFrame()\n",
    "        history_data_1 = history_data[history_data.id == sample_df['id'][i]]\n",
    "        history_data_1['time_interval'] = [(pd.to_datetime(sample_df['obs_time'][i]) - j).days for j in history_data_1['time']]\n",
    "        \n",
    "        #计算60天内A，B的最大值和空值\n",
    "        tmp1 = history_data_1.loc[history_data_1.time_interval < 10]\n",
    "        tmp2 = tmp1[tmp1.time_interval > 0]\n",
    "        lst_tmp.append(tmp2['A'].mean())\n",
    "        lst_tmp.append(len(tmp2['A']) - len(tmp2[tmp2['A'].isnull()]))\n",
    "        lst_tmp.append(tmp2['B'].mean())\n",
    "        lst_tmp.append(len(tmp2['B']) - len(tmp2[tmp2['B'].isnull()]))\n",
    "        \n",
    "        #计算60天内A，B的最大值和空值\n",
    "        tmp3 = history_data_1.loc[history_data_1.time_interval < 60]\n",
    "        tmp4 = tmp3[tmp3.time_interval > 0]\n",
    "        lst_tmp.append(tmp4['A'].mean())\n",
    "        lst_tmp.append(len(tmp4['A']) - len(tmp4[tmp4['A'].isnull()]))\n",
    "        lst_tmp.append(tmp4['B'].mean())\n",
    "        lst_tmp.append(len(tmp4['B']) - len(tmp4[tmp4['B'].isnull()]))\n",
    "        lst.append(lst_tmp)\n",
    "    return lst"
   ]
  },
  {
   "cell_type": "code",
   "execution_count": 5,
   "metadata": {},
   "outputs": [
    {
     "name": "stderr",
     "output_type": "stream",
     "text": [
      "d:\\program files\\lib\\site-packages\\ipykernel_launcher.py:12: SettingWithCopyWarning: \n",
      "A value is trying to be set on a copy of a slice from a DataFrame.\n",
      "Try using .loc[row_indexer,col_indexer] = value instead\n",
      "\n",
      "See the caveats in the documentation: http://pandas.pydata.org/pandas-docs/stable/indexing.html#indexing-view-versus-copy\n",
      "  if sys.path[0] == '':\n"
     ]
    }
   ],
   "source": [
    "result = pd.DataFrame(Get_A_B_Value(history_data,sample_df))\n",
    "result.columns = ['id','obs_time','10天内A平均值','10天内A非空样本数量','10天内B平均值','10天内B非空样本数量',\n",
    "                  '60天内A平均值','60天内A非空样本数量','60天内B平均值','60天内B非空样本数量']"
   ]
  },
  {
   "cell_type": "code",
   "execution_count": 6,
   "metadata": {},
   "outputs": [
    {
     "data": {
      "text/html": [
       "<div>\n",
       "<style scoped>\n",
       "    .dataframe tbody tr th:only-of-type {\n",
       "        vertical-align: middle;\n",
       "    }\n",
       "\n",
       "    .dataframe tbody tr th {\n",
       "        vertical-align: top;\n",
       "    }\n",
       "\n",
       "    .dataframe thead th {\n",
       "        text-align: right;\n",
       "    }\n",
       "</style>\n",
       "<table border=\"1\" class=\"dataframe\">\n",
       "  <thead>\n",
       "    <tr style=\"text-align: right;\">\n",
       "      <th></th>\n",
       "      <th>id</th>\n",
       "      <th>obs_time</th>\n",
       "      <th>10天内A平均值</th>\n",
       "      <th>10天内A非空样本数量</th>\n",
       "      <th>10天内B平均值</th>\n",
       "      <th>10天内B非空样本数量</th>\n",
       "      <th>60天内A平均值</th>\n",
       "      <th>60天内A非空样本数量</th>\n",
       "      <th>60天内B平均值</th>\n",
       "      <th>60天内B非空样本数量</th>\n",
       "    </tr>\n",
       "  </thead>\n",
       "  <tbody>\n",
       "    <tr>\n",
       "      <th>0</th>\n",
       "      <td>1</td>\n",
       "      <td>2019/3/7 0:00</td>\n",
       "      <td>NaN</td>\n",
       "      <td>0</td>\n",
       "      <td>NaN</td>\n",
       "      <td>0</td>\n",
       "      <td>4.313876</td>\n",
       "      <td>3</td>\n",
       "      <td>5.837555</td>\n",
       "      <td>3</td>\n",
       "    </tr>\n",
       "    <tr>\n",
       "      <th>1</th>\n",
       "      <td>1</td>\n",
       "      <td>2019/2/1 0:00</td>\n",
       "      <td>3.797676</td>\n",
       "      <td>1</td>\n",
       "      <td>6.295089</td>\n",
       "      <td>2</td>\n",
       "      <td>5.157185</td>\n",
       "      <td>2</td>\n",
       "      <td>5.837555</td>\n",
       "      <td>3</td>\n",
       "    </tr>\n",
       "    <tr>\n",
       "      <th>2</th>\n",
       "      <td>2</td>\n",
       "      <td>2019/3/15 0:00</td>\n",
       "      <td>NaN</td>\n",
       "      <td>0</td>\n",
       "      <td>NaN</td>\n",
       "      <td>0</td>\n",
       "      <td>4.760495</td>\n",
       "      <td>3</td>\n",
       "      <td>3.532162</td>\n",
       "      <td>3</td>\n",
       "    </tr>\n",
       "    <tr>\n",
       "      <th>3</th>\n",
       "      <td>2</td>\n",
       "      <td>2019/2/1 0:00</td>\n",
       "      <td>3.629338</td>\n",
       "      <td>1</td>\n",
       "      <td>1.529292</td>\n",
       "      <td>1</td>\n",
       "      <td>3.629338</td>\n",
       "      <td>1</td>\n",
       "      <td>3.989297</td>\n",
       "      <td>2</td>\n",
       "    </tr>\n",
       "  </tbody>\n",
       "</table>\n",
       "</div>"
      ],
      "text/plain": [
       "   id        obs_time  10天内A平均值  10天内A非空样本数量  10天内B平均值  10天内B非空样本数量  60天内A平均值  \\\n",
       "0   1   2019/3/7 0:00       NaN            0       NaN            0  4.313876   \n",
       "1   1   2019/2/1 0:00  3.797676            1  6.295089            2  5.157185   \n",
       "2   2  2019/3/15 0:00       NaN            0       NaN            0  4.760495   \n",
       "3   2   2019/2/1 0:00  3.629338            1  1.529292            1  3.629338   \n",
       "\n",
       "   60天内A非空样本数量  60天内B平均值  60天内B非空样本数量  \n",
       "0            3  5.837555            3  \n",
       "1            2  5.837555            3  \n",
       "2            3  3.532162            3  \n",
       "3            1  3.989297            2  "
      ]
     },
     "execution_count": 6,
     "metadata": {},
     "output_type": "execute_result"
    }
   ],
   "source": [
    "result"
   ]
  },
  {
   "cell_type": "code",
   "execution_count": 7,
   "metadata": {},
   "outputs": [],
   "source": [
    "result.to_csv('task_4_results.csv')"
   ]
  },
  {
   "cell_type": "code",
   "execution_count": null,
   "metadata": {},
   "outputs": [],
   "source": []
  }
 ],
 "metadata": {
  "kernelspec": {
   "display_name": "Python 3",
   "language": "python",
   "name": "python3"
  },
  "language_info": {
   "codemirror_mode": {
    "name": "ipython",
    "version": 3
   },
   "file_extension": ".py",
   "mimetype": "text/x-python",
   "name": "python",
   "nbconvert_exporter": "python",
   "pygments_lexer": "ipython3",
   "version": "3.6.6"
  }
 },
 "nbformat": 4,
 "nbformat_minor": 2
}
